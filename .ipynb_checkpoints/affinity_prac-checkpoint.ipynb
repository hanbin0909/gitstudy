{
 "cells": [
  {
   "cell_type": "code",
   "execution_count": 1,
   "metadata": {},
   "outputs": [],
   "source": [
    "# 외부 패키지인 numpy 불러옴 (np라는 이름으로 불러옴)\n",
    "import numpy as np\n",
    "dataset_filename = \"affinity_dataset.txt\"\n",
    "X = np.loadtxt(dataset_filename)"
   ]
  },
  {
   "cell_type": "code",
   "execution_count": 2,
   "metadata": {},
   "outputs": [
    {
     "data": {
      "text/plain": [
       "'여기 코드 작성'"
      ]
     },
     "execution_count": 2,
     "metadata": {},
     "output_type": "execute_result"
    }
   ],
   "source": [
    "# 패턴을 찾기 위한 대상 데이터 로딩 (numpy의 loadtxt 함수 호출)\n"
   ]
  },
  {
   "cell_type": "code",
   "execution_count": 3,
   "metadata": {},
   "outputs": [],
   "source": [
    "# 속성의 이름을 정해줌 (txt 데이터에는 속성 이름이 없으므로 임의로 정해줌)\n",
    "features = [\"bread\", \"milk\", \"cheese\", \"apples\", \"bananas\"]"
   ]
  },
  {
   "cell_type": "code",
   "execution_count": 4,
   "metadata": {},
   "outputs": [
    {
     "data": {
      "text/plain": [
       "'여기 코드 작성'"
      ]
     },
     "execution_count": 4,
     "metadata": {},
     "output_type": "execute_result"
    }
   ],
   "source": [
    "# 7개의 행까지 프린트, 각각의 행은 샘플 하나에 해당함\n",
    "# X는 길이가 100인 배열이며, 배열의 각 요소는 다시 길이가 5인 배열\n",
    "# 콜론(:)의 의미는 처음부터 콜론 뒤에 있는 숫자까지라는 뜻\n",
    "# 따라서 X[:7]는 배열의 첫번째 요소부터 7번째 요소까지를 의미\n",
    "# index로는 0에서부터 6까지 포함\n",
    "# 이 배열의 각 요소는 길이가 5인 배열이므로 아래와 같이 프린팅 됨\n",
    "\n",
    "'''여기 코드 작성'''"
   ]
  },
  {
   "cell_type": "code",
   "execution_count": 5,
   "metadata": {},
   "outputs": [
    {
     "data": {
      "text/plain": [
       "'여기 코드 작성'"
      ]
     },
     "execution_count": 5,
     "metadata": {},
     "output_type": "execute_result"
    }
   ],
   "source": [
    "# 7개의 행과 3개의 속성을 프린트\n",
    "# 행과 열의 범위를 주어 접근\n",
    "# 행은 콤마(,) 앞에 위치하고 열은 뒤에 위치\n",
    "\n",
    "'''여기 코드 작성'''"
   ]
  },
  {
   "cell_type": "code",
   "execution_count": 6,
   "metadata": {},
   "outputs": [
    {
     "data": {
      "text/plain": [
       "'여기 코드 작성'"
      ]
     },
     "execution_count": 6,
     "metadata": {},
     "output_type": "execute_result"
    }
   ],
   "source": [
    "# 하나의 샘플만 프린트할 경우 - 두번째 사람이 구매 이력\n",
    "\n",
    "'''여기 코드 작성'''"
   ]
  },
  {
   "cell_type": "code",
   "execution_count": 7,
   "metadata": {},
   "outputs": [
    {
     "data": {
      "text/plain": [
       "'여기 코드 작성'"
      ]
     },
     "execution_count": 7,
     "metadata": {},
     "output_type": "execute_result"
    }
   ],
   "source": [
    "# 하나의 샘플의 특정 상품 구매여부만 프린트할 경우\n",
    "# 세번째 사람이 네번째 상품인 사과 구매 여부\n",
    "\n",
    "\n",
    "'''여기 코드 작성'''"
   ]
  },
  {
   "cell_type": "code",
   "execution_count": 8,
   "metadata": {},
   "outputs": [
    {
     "data": {
      "text/plain": [
       "'여기 코드 작성'"
      ]
     },
     "execution_count": 8,
     "metadata": {},
     "output_type": "execute_result"
    }
   ],
   "source": [
    "# 각각의 행을 읽으면서 그 행을 프린트하고\n",
    "# 바로 옆에 그 사람의 사과 구매 여부를 프린트\n",
    "# for 문을 돌리면서 X에 있는 요소가 순서대로 sample에 카피됨\n",
    "\n",
    "'''여기 코드 작성'''\n",
    "'''여기 코드 작성'''"
   ]
  },
  {
   "cell_type": "code",
   "execution_count": 9,
   "metadata": {},
   "outputs": [
    {
     "name": "stdout",
     "output_type": "stream",
     "text": [
      "0 people bought Apples\n"
     ]
    }
   ],
   "source": [
    "# 사과를 구입한 사람의 수를 카운팅\n",
    "# for문을 돌리며 X에 있는 요소들을 하나씩 sample에 복사하여 체크\n",
    "\n",
    "\n",
    "num_apple_purchases = 0\n",
    "'''여기 코드 작성'''\n",
    "'''여기 코드 작성'''\n",
    "'''여기 코드 작성'''\n",
    "\n",
    "print(\"{0} people bought Apples\".format(num_apple_purchases))"
   ]
  },
  {
   "cell_type": "code",
   "execution_count": 10,
   "metadata": {},
   "outputs": [
    {
     "name": "stdout",
     "output_type": "stream",
     "text": [
      "0 cases of the rule being valid were discovered\n",
      "0 cases of the rule being invalid were discovered\n"
     ]
    }
   ],
   "source": [
    "# 사과를 산 사람이 바나나도 산 경우가 얼마나 많은가?\n",
    "# 규칙이 유효한 경우와 그렇지 않은 경우 모두 기록\n",
    "# 유효한 경우는 사과를 산 사람 중에서 바나나도 산 사람의 수 (교집합)\n",
    "# 비유효한 경우는 사과를 산 사람 중에서 바나나는 사지 않은 사람의 수 (차집합)\n",
    "rule_valid = 0\n",
    "rule_invalid = 0\n",
    "'''여기 코드 작성'''\n",
    "'''여기 코드 작성'''  # This person bought Apples\n",
    "'''여기 코드 작성'''\n",
    "            # This person bought both Apples and Bananas\n",
    "'''여기 코드 작성'''\n",
    "'''여기 코드 작성'''\n",
    "            # This person bought Apples, but not Bananas\n",
    "'''여기 코드 작성'''\n",
    "print(\"{0} cases of the rule being valid were discovered\".format(rule_valid))\n",
    "print(\"{0} cases of the rule being invalid were discovered\".format(rule_invalid))"
   ]
  },
  {
   "cell_type": "code",
   "execution_count": 11,
   "metadata": {},
   "outputs": [
    {
     "ename": "NameError",
     "evalue": "name 'confidence' is not defined",
     "output_type": "error",
     "traceback": [
      "\u001b[1;31m---------------------------------------------------------------------------\u001b[0m",
      "\u001b[1;31mNameError\u001b[0m                                 Traceback (most recent call last)",
      "\u001b[1;32m<ipython-input-11-9ce569685bea>\u001b[0m in \u001b[0;36m<module>\u001b[1;34m\u001b[0m\n\u001b[0;32m      5\u001b[0m \u001b[1;33m\u001b[0m\u001b[0m\n\u001b[0;32m      6\u001b[0m \u001b[1;31m# 프린트 시에 숫자 포맷을 지정하여 프린트할 수 있음\u001b[0m\u001b[1;33m\u001b[0m\u001b[1;33m\u001b[0m\u001b[1;33m\u001b[0m\u001b[0m\n\u001b[1;32m----> 7\u001b[1;33m \u001b[0mprint\u001b[0m\u001b[1;33m(\u001b[0m\u001b[1;34m\"The support is {0} and the confidence is {1:.3f}.\"\u001b[0m\u001b[1;33m.\u001b[0m\u001b[0mformat\u001b[0m\u001b[1;33m(\u001b[0m\u001b[0msupport\u001b[0m\u001b[1;33m,\u001b[0m \u001b[0mconfidence\u001b[0m\u001b[1;33m)\u001b[0m\u001b[1;33m)\u001b[0m\u001b[1;33m\u001b[0m\u001b[1;33m\u001b[0m\u001b[0m\n\u001b[0m\u001b[0;32m      8\u001b[0m \u001b[1;34m'''여기 코드 작성'''\u001b[0m\u001b[1;33m\u001b[0m\u001b[1;33m\u001b[0m\u001b[0m\n",
      "\u001b[1;31mNameError\u001b[0m: name 'confidence' is not defined"
     ]
    }
   ],
   "source": [
    "# 지지도(Support)와 신뢰도(Confidence)를 계산하기 위한 정보가 모두 존재하므로 계산\n",
    "# 사과를 사면(전제) -> 바나나를 산다(결론)\n",
    "support = rule_valid  # 이 규칙이 발견된 횟수\n",
    "'''여기 코드 작성''' # (이 규칙이 발견된 횟수)/(전제에 해당하는 샘플의 개수)\n",
    "\n",
    "# 프린트 시에 숫자 포맷을 지정하여 프린트할 수 있음\n",
    "print(\"The support is {0} and the confidence is {1:.3f}.\".format(support, confidence))\n",
    "'''여기 코드 작성'''"
   ]
  },
  {
   "cell_type": "code",
   "execution_count": null,
   "metadata": {},
   "outputs": [],
   "source": [
    "# 이제 해야할 것은 모든 규칙을 만들어보고 그 규칙이 맞는 경우와 틀리는 경우 계산\n",
    "# (전제,결론) 쌍이므로 순서가 있는 상품의 쌍\n",
    "# 이를 위해 자료형은 딕셔너리 구조 사용 (참고자료: 소프트웨어공학_5주.pdf, p.28부터)\n",
    "# 기본 딕셔너리를 사용하지 않고 defaultdict를 사용\n",
    "# 파이썬 표준 라이브러리은 collections 패키지로부터 import\n",
    "\n",
    "from collections import defaultdict\n",
    "# Now compute for all possible rules\n",
    "valid_rules = defaultdict(int)   # value 가 int 값을 갖는 딕셔너리 선언, 각 규칙이 참인 샘플 개수를 저장\n",
    "'''여기 코드 작성''' # value 가 int 값을 갖는 딕셔너리 선언, 각 규칙이 거짓인 샘플 개수를 저장\n",
    "'''여기 코드 작성''' # value 가 int 값을 갖는 딕셔너리 선언, 각 규칙의 전제가 발견되는 샘플 개수를 저장"
   ]
  },
  {
   "cell_type": "code",
   "execution_count": null,
   "metadata": {},
   "outputs": [],
   "source": [
    "# 아무 데이터도 넣지 않은 defaultdict를 프린트해본다.\n",
    "# \n",
    "'''여기 코드 작성'''"
   ]
  },
  {
   "cell_type": "code",
   "execution_count": null,
   "metadata": {},
   "outputs": [],
   "source": [
    "#앞으로 valid_rules에는 다음과 같은 자료가 저장될 것임 (데이터를 읽으면서)\n",
    "# {(0, 1): 13, (1, 2): 11} <----- 첫번째 요소: 상품0을 구매했을 때 상품1을 구매한 경우의 샘플 개수는 13개\n",
    "#                                 두번째 요소: 상품1을 상품을 구매했을 때 상품2를 구매한 경우의 샘플 개수는 11개    \n",
    "# 위의 딕셔너리에 모든 상품 쌍(순서있음)에 대한 요소들이 추가될 것임"
   ]
  },
  {
   "cell_type": "code",
   "execution_count": null,
   "metadata": {},
   "outputs": [],
   "source": [
    "for sample in X:\n",
    "    for premise in range(len(features)):\n",
    "        '''아래에서 빈 부분 코드 작성'''\n",
    "        if sample[premise] == 0: continue\n",
    "        # Record that the premise was bought in another transaction\n",
    "        '''여기 코드 작성'''\n",
    "        for conclusion in range(len(features)):\n",
    "            '''여기 코드 작성'''  # It makes little sense to measure if X -> X.\n",
    "            '''여기 코드 작성'''\n",
    "            '''여기 코드 작성'''\n",
    "                # This person also bought the conclusion item\n",
    "            '''여기 코드 작성'''\n",
    "            else:\n",
    "                # This person bought the premise, but not the conclusion\n",
    "            '''여기 코드 작성'''\n",
    "support = valid_rules\n",
    "confidence = defaultdict(float)\n",
    "for premise, conclusion in valid_rules.keys():\n",
    "    confidence[(premise, conclusion)] = valid_rules[(premise, conclusion)] / float(num_occurences[premise])"
   ]
  },
  {
   "cell_type": "code",
   "execution_count": null,
   "metadata": {},
   "outputs": [],
   "source": [
    "'''여기 코드 작성'''"
   ]
  },
  {
   "cell_type": "code",
   "execution_count": null,
   "metadata": {},
   "outputs": [],
   "source": [
    "'''여기 코드 작성'''"
   ]
  },
  {
   "cell_type": "code",
   "execution_count": null,
   "metadata": {},
   "outputs": [],
   "source": [
    "# 규칙 출력\n",
    "for premise, conclusion in confidence:\n",
    "'''여기 코드 작성'''\n",
    "'''여기 코드 작성'''\n",
    "    print(\"Rule: If a person buys {0} they will also buy {1}\".format(premise_name, conclusion_name))\n",
    "'''여기 코드 작성'''\n",
    "'''여기 코드 작성'''\n",
    "'''여기 코드 작성'''"
   ]
  },
  {
   "cell_type": "code",
   "execution_count": null,
   "metadata": {},
   "outputs": [],
   "source": [
    "# 특정 조건에 대해 출력하는 함수\n",
    "'''여기 코드 작성'''\n",
    "'''여기 코드 작성'''\n",
    "'''여기 코드 작성'''\n",
    "'''여기 코드 작성'''\n",
    "'''여기 코드 작성'''\n",
    "'''여기 코드 작성'''\n",
    "'''여기 코드 작성'''"
   ]
  },
  {
   "cell_type": "code",
   "execution_count": null,
   "metadata": {},
   "outputs": [],
   "source": [
    "premise = 1\n",
    "conclusion = 3\n",
    "'''여기 코드 작성'''"
   ]
  },
  {
   "cell_type": "code",
   "execution_count": null,
   "metadata": {},
   "outputs": [],
   "source": [
    "# Sort by support (규칙 id 값으로)\n",
    "from pprint import pprint\n",
    "pprint(list(support.items()))"
   ]
  },
  {
   "cell_type": "code",
   "execution_count": null,
   "metadata": {},
   "outputs": [],
   "source": [
    "# Sort by support\n",
    "'''여기 코드 작성'''\n"
   ]
  },
  {
   "cell_type": "code",
   "execution_count": null,
   "metadata": {},
   "outputs": [],
   "source": [
    "# Sort by confidence\n",
    "sorted_confidence = sorted(confidence.items(), key=itemgetter(1), reverse=True)\n",
    "\n",
    "for index in range(5):\n",
    "    print(\"Rule #{0}\".format(index + 1))\n",
    "    (premise, conclusion) = sorted_confidence[index][0]\n",
    "    print_rule(premise, conclusion, support, confidence, features)"
   ]
  }
 ],
 "metadata": {
  "kernelspec": {
   "display_name": "Python 3",
   "language": "python",
   "name": "python3"
  },
  "language_info": {
   "codemirror_mode": {
    "name": "ipython",
    "version": 3
   },
   "file_extension": ".py",
   "mimetype": "text/x-python",
   "name": "python",
   "nbconvert_exporter": "python",
   "pygments_lexer": "ipython3",
   "version": "3.7.6"
  }
 },
 "nbformat": 4,
 "nbformat_minor": 2
}
